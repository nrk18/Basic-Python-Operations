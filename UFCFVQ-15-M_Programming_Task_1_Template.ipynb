{
 "cells": [
  {
   "cell_type": "markdown",
   "metadata": {},
   "source": [
    "# UFCFVQ-15-M Programming for Data Science (Autumn 2021)\n",
    "# Programming Task 1\n",
    "\n",
    "## Student Id: 21058953"
   ]
  },
  {
   "cell_type": "markdown",
   "metadata": {
    "deletable": false
   },
   "source": [
    "<p style=\"color:red; font-weight:bold; font-size:xx-small\">OVERALL COURSEWORK MARK: ___%</p>"
   ]
  },
  {
   "cell_type": "markdown",
   "metadata": {
    "deletable": false
   },
   "source": [
    "### Requirement FR1 - Develop a function to find the arithmetic mean"
   ]
  },
  {
   "cell_type": "code",
   "execution_count": 1,
   "metadata": {},
   "outputs": [
    {
     "name": "stdout",
     "output_type": "stream",
     "text": [
      "The arithmetic mean of the list entered is 15.33\n"
     ]
    }
   ],
   "source": [
    "# add code here\n",
    "\n",
    "#defining the function to find the average\n",
    "def average(L):        \n",
    "    \n",
    "    # using in-built sum and len function to find the sum and length of list\n",
    "    avg = sum(L)/len(L)      \n",
    "    \n",
    "    # returning the mean of the list to two decimal places\n",
    "    return round(avg,2)   \n",
    "\n",
    "# Printing the output\n",
    "print(\"The arithmetic mean of the list entered is %0.2f\" %average([6, 2, 22, 21, 24, 23, 8, 9, 5, \n",
    "3, 11, 28, 14, 13, 12, 26, 29, 16, 15, 20, 25, 1, 10, 18, 27, 19, 7]))\n"
   ]
  },
  {
   "cell_type": "markdown",
   "metadata": {
    "deletable": false
   },
   "source": [
    "<p style=\"color:red; font-weight:bold; font-size:xx-small\">MARK: __%</p>\n",
    "<p style=\"color:red; font-weight:bold; font-size:xx-small\">FEEDBACK: </p>"
   ]
  },
  {
   "cell_type": "markdown",
   "metadata": {
    "deletable": false
   },
   "source": [
    "### Requirement FR2 - Develop a function to find the standard deviation"
   ]
  },
  {
   "cell_type": "code",
   "execution_count": 2,
   "metadata": {},
   "outputs": [
    {
     "name": "stdout",
     "output_type": "stream",
     "text": [
      "The standard deviation of the list entered is 8.39\n"
     ]
    }
   ],
   "source": [
    "# add code here\n",
    "\n",
    "\"\"\"Function defined to find the standard deviation of a list using formula by \n",
    "taking square root of variance as the list is small\"\"\"\n",
    "\n",
    "def sd(L): \n",
    "    \n",
    "    # Using average function defined above to find mean\n",
    "    mean=average(L)             \n",
    "    \n",
    "    # setting variable sum to zero\n",
    "    sum=0                   \n",
    "    \n",
    "    # looping through the list passed as parameter\n",
    "    for i in L:\n",
    "        # Finding the sum of square of difference of variable with mean\n",
    "        sum += ((i-mean)**2)    \n",
    "    \n",
    "    # Finding the variance\n",
    "    var=sum/len(L)               \n",
    "    \n",
    "    # standard deviation is equal to square root of variance\n",
    "    std = var**(0.5)            \n",
    "    \n",
    "    # Returning the standard deviation to two decimal values\n",
    "    return round(std,2)       \n",
    "\n",
    "# Printing the output\n",
    "print(\"The standard deviation of the list entered is %0.2f\" %sd([6, 2, 22, 21, 24, 23, 8, 9, 5, \n",
    "3, 11, 28, 14, 13, 12, 26, 29, 16, 15, 20, 25, 1, 10, 18, 27, 19, 7]))\n"
   ]
  },
  {
   "cell_type": "markdown",
   "metadata": {
    "deletable": false
   },
   "source": [
    "<p style=\"color:red; font-weight:bold; font-size:xx-small\">MARK: __%</p>\n",
    "<p style=\"color:red; font-weight:bold; font-size:xx-small\">FEEDBACK: </p>"
   ]
  },
  {
   "cell_type": "markdown",
   "metadata": {
    "deletable": false
   },
   "source": [
    "### Requirement FR3 - Develop a function to find the min/max values and count "
   ]
  },
  {
   "cell_type": "code",
   "execution_count": 3,
   "metadata": {},
   "outputs": [
    {
     "name": "stdout",
     "output_type": "stream",
     "text": [
      "In the list entered, the minimum value is 1.00, the maximum value is 29.00 and the \n",
      "count of the list is 27.\n"
     ]
    }
   ],
   "source": [
    "# add code here\n",
    "# Function to find the minimum/maximum values and count the number of values in the list\n",
    "def min_max(L):\n",
    "    \n",
    "    # in-built function to find minimum\n",
    "    small = round(min(L),2)            \n",
    "    \n",
    "    # in-built function to find maximum\n",
    "    large = round(max(L),2)           \n",
    "    \n",
    "    # in-built function to find the number of variables in the list\n",
    "    count = round(len(L),2)              \n",
    "    \n",
    "    #for i in L:                A glimpse of trial at counting number without in-built function\n",
    "     #   count += i\n",
    "    \n",
    "    # Returning the min/max and count\n",
    "    return small, large, count     \n",
    "\n",
    "# Printing the output\n",
    "print(\"\"\"In the list entered, the minimum value is %0.2f, the maximum value is %0.2f and the \n",
    "count of the list is %0.0f.\"\"\" %min_max([6, 2, 22, 21, 24, 23, 8, 9, 5, \n",
    "3, 11, 28, 14, 13, 12, 26, 29, 16, 15, 20, 25, 1, 10, 18, 27, 19, 7]))  "
   ]
  },
  {
   "cell_type": "markdown",
   "metadata": {
    "deletable": false
   },
   "source": [
    "<p style=\"color:red; font-weight:bold; font-size:xx-small\">MARK: __%</p>\n",
    "<p style=\"color:red; font-weight:bold; font-size:xx-small\">FEEDBACK: </p>"
   ]
  },
  {
   "cell_type": "markdown",
   "metadata": {
    "deletable": false
   },
   "source": [
    "### Requirement FR4 - Develop a function to find the 25th, 50th and 75th percentiles "
   ]
  },
  {
   "cell_type": "code",
   "execution_count": 4,
   "metadata": {},
   "outputs": [
    {
     "name": "stdout",
     "output_type": "stream",
     "text": [
      "In the list entered, the 25th percentile is 1, the 50th percentile is 29 and the \n",
      "75th percentile of the list is 27.\n"
     ]
    }
   ],
   "source": [
    "# add code here\n",
    "# Finding the percentiles of a number using interpolation, a function is defined \n",
    "def percentiles(L):\n",
    "    \n",
    "    # making sure that the list is sorted\n",
    "    L.sort()\n",
    "    \n",
    "    # Finding the length of the list and adding 1, to do interpolation\n",
    "    n=(len(L)+1)\n",
    "    \n",
    "    # The 25th percentile is found by taking the quotient and remainder from the 25 percent of list\n",
    "    per_25i,per_25d= divmod(((0.25*n)-1),1)\n",
    "    \n",
    "    # This value is interpolated with the equation of interpolation\n",
    "    per_25=round((L[int(per_25i)] + per_25d*(L[int(per_25i)+1] - L[int(per_25i)])),2)\n",
    "    \n",
    "    # The 50th percentile is found by taking the quotient and remainder from the 50 percent of list\n",
    "    per_50i,per_50d= divmod(((0.5*n)-1),1)\n",
    "    \n",
    "    # This value is interpolated with the equation of interpolation\n",
    "    per_50=round((L[int(per_50i)] + per_50d*(L[int(per_50i)+1] - L[int(per_50i)])),2)\n",
    "    \n",
    "    # The 75th percentile is found by taking the quotient and remainder from the 75 percent of list\n",
    "    per_75i,per_75d= divmod(((0.75*n)-1),1)\n",
    "    \n",
    "    # This value is interpolated with the equation of interpolation\n",
    "    per_75=round((L[int(per_75i)] + per_75d*(L[int(per_75i)+1] - L[int(per_75i)])),2)\n",
    "    \n",
    "    # The values are returned\n",
    "    return per_25, per_50, per_75 \n",
    "\n",
    "# Printing the output\n",
    "print(\"\"\"In the list entered, the 25th percentile is %0.0f, the 50th percentile is %0.0f and the \n",
    "75th percentile of the list is %0.0f.\"\"\" %min_max([6, 2, 22, 21, 24, 23, 8, 9, 5, \n",
    "3, 11, 28, 14, 13, 12, 26, 29, 16, 15, 20, 25, 1, 10, 18, 27, 19, 7]))\n",
    "    "
   ]
  },
  {
   "cell_type": "markdown",
   "metadata": {
    "deletable": false
   },
   "source": [
    "<p style=\"color:red; font-weight:bold; font-size:xx-small\">MARK: __%</p>\n",
    "<p style=\"color:red; font-weight:bold; font-size:xx-small\">FEEDBACK: </p>"
   ]
  },
  {
   "cell_type": "markdown",
   "metadata": {
    "deletable": false
   },
   "source": [
    "### Requirement FR5 - Develop a function to read a single column from a CSV file"
   ]
  },
  {
   "cell_type": "code",
   "execution_count": 5,
   "metadata": {},
   "outputs": [
    {
     "name": "stdout",
     "output_type": "stream",
     "text": [
      "('Other', [0.0, 2.29693941, 3.539346, 4.763252129, 0.0811, 0.008019927, 0.109149431, 5.427544126, 52.88998503, 0.496261903, 0.679177831, 9.588635536, 6.737367486, 90.72346175, 2.088838157, 0.682716361, 0.05136, 4.7285, 6.119796142, 0.427967651, 0.0, 1.369850244, 0.23331662, 12.86168421, 8.521197318, 51.437, 0.298303335, 0.100724044, 2.371182482, 6.009414916, 30.45869682, 14.5368, 0.021740437, 0.0, 1.242427268, 0.115, 25.31219835, 33.6554308, 0.0024284, 0.0, 0.962146042, 0.47, 0.226101964, 0.05405, 1.004339878, 6.480283932, 0.0, 4.875860296, 8.320907599, 0.178266653, 0.0, 0.163131005, 0.022, 1.39699069, 0.0041, 2.647315578, 0.222533905, 1.667658529, 0.674414968, 11.540128, 6.331, 3.439, 0.114486339, 0.4617102, 0.4645, 0.0, 0.903, 1.419478261, 0.28827567, 0.530431005, 10.1747942, 7.378921565, 0.11339364, 11.85871366, 1.974071402, 2.01435, 12.31650175, 0.0, 9.983786807, 0.0, 0.218506543, 0.005983607, 35.58660245, 83.67703684, 0.0, 0.0, 0.060833333])\n"
     ]
    }
   ],
   "source": [
    "# add code here\n",
    "# A function to read a specific column is defined\n",
    "def specific_column(file,n):\n",
    "    \n",
    "    # The values in csv file is read to f\n",
    "    with open(file, 'r') as f:                         \n",
    "        \n",
    "        # A list data is defined to read in the values\n",
    "        data = []                                      \n",
    "        \n",
    "        # By looping through the f, the values are recorded row-wise\n",
    "        for line in f:\n",
    "            data.append((line.rstrip()).split(','))   \n",
    "            \n",
    "        # A list to store the column values is defined\n",
    "        col_list=[]         \n",
    "        \n",
    "        # The column is populated by iterating through rows in data\n",
    "        for row in data:\n",
    "            col_list.append(row[n])                    \n",
    "\n",
    "        # The column name is popped out\n",
    "        col_name=col_list.pop(0)                      \n",
    "\n",
    "        # Condition whether list contains empty value is checked\n",
    "        while(\"\" in col_list):\n",
    "            col_list.remove(\"\")                        \n",
    "\n",
    "        # The variables in each column is mapped as float values\n",
    "        col_list= list(map(float, col_list))           \n",
    "    \n",
    "    # The column name and the variables are returned\n",
    "    return col_name, col_list                          \n",
    "    \n",
    "# Printing the output of the function\n",
    "print(specific_column(\"task1.csv\",3))"
   ]
  },
  {
   "cell_type": "markdown",
   "metadata": {
    "deletable": false
   },
   "source": [
    "<p style=\"color:red; font-weight:bold; font-size:xx-small\">MARK: __%</p>\n",
    "<p style=\"color:red; font-weight:bold; font-size:xx-small\">FEEDBACK: </p>"
   ]
  },
  {
   "cell_type": "markdown",
   "metadata": {
    "deletable": false
   },
   "source": [
    "### Requirement FR6 - Develop a function to read CSV data from a file into memory"
   ]
  },
  {
   "cell_type": "code",
   "execution_count": 6,
   "metadata": {},
   "outputs": [
    {
     "name": "stdout",
     "output_type": "stream",
     "text": [
      "{'Hydropower': [0.117, 41.64945459, 17.26791, 37.52781287, 1.76795, 0.885632595, 0.45726487, 0.284810423, 387.6868063, 5.125584584, 244.839096, 387.2508762, 23.14438369, 1202.43, 56.64701407, 7.512550207, 0.0, 1.6272, 0.016454789, 20.69612073, 13.48338, 0.015617162, 38.93203591, 13.27777778, 64.2234218, 16.9, 5.720179713, 0.0, 0.221, 13.81099543, 139.6678322, 16.4112, 10.77, 3.1074588, 0.694087982, 0.0245, 45.85205715, 80.997, 10.3295118, 0.0, 2.433342329, 0.45, 0.094557415, 1.791368, 24.17649672, 32.39511459, 1.6934, 0.072348, 26.32037732, 138.4962175, 0.0, 62.91198244, 35.20305729, 2.255678699, 1.288541272, 0.0165, 69.46684307, 1.852952842, 35.99700727, 30.76868807, 9.383758, 1.971, 12.346, 0.0, 17.56396055, 190.21311, 0.0, 0.0, 3.591, 4.712487886, 0.914864856, 2.920390756, 35.19825724, 6.369370161, 61.91687566, 34.80394017, 4.4661, 7.597013, 0.0, 59.51828075, 0.0, 9.900734781, 0.0, 5.464660531, 288.7063404, 6.868202, 72.08394993, 80.70625435], 'Solar': [0.603, 0.108128528, 12.081099, 1.578641473, 0.03926, 0.299208359, 0.134485968, 3.971724224, 3.137078404, 1.103538835, 0.881300118, 3.5462509, 5.118720829, 177.5, 0.011999821, 0.073591668, 0.19183, 2.3386, 0.952973, 0.037991538, 1.035739071, 0.012679515, 0.441810565, 0.1622, 10.15871272, 46.164, 3.791092002, 0.000961, 0.588876056, 0.0, 30.73240318, 0.01836, 0.037698887, 0.057143443, 0.022173967, 1.793230515, 23.23072906, 71.6883359, 0.1146904, 0.088143148, 0.001263953, 0.08, 0.117480937, 0.022788, 0.459692933, 2.2428, 0.9502, 3.2012, 0.098244292, 0.064488547, 0.013718674, 0.585723529, 0.01484375, 0.697743206, 3.020039802, 0.111623598, 0.675171297, 0.128029166, 2.12332226, 0.745192715, 1.249117, 0.299, 1.02, 0.009423834, 1.674, 0.57106, 0.154871783, 0.283982555, 0.585, 0.253621, 4.935234819, 9.349876912, 12.52057273, 0.205337811, 0.373100151, 1.957371429, 2.733, 4.719656655, 0.003989071, 7.890694078, 0.00696, 1.286493457, 0.9468835, 12.92181535, 97.11818182, 0.0, 0.010008089, 0.080231508], 'Wind': [0.01, 1.412699784, 16.266484, 5.900014713, 0.0822, 0.005086066, 0.117978175, 7.468573702, 48.47990705, 1.378292235, 0.977082975, 32.17005152, 3.688710149, 366.0, 0.043437355, 1.379085419, 0.22061, 0.6093, 13.89880328, 0.080257771, 2.438966811, 0.633888557, 0.531134615, 5.857, 28.16738103, 111.59, 6.300269103, 0.000825, 0.608, 0.004365699, 60.31116, 0.198, 0.361973742, 0.0, 8.390989769, 0.105269485, 17.47251773, 6.789652, 0.5412648, 0.017452186, 0.123287671, 1.145, 0.307147387, 0.097338, 0.0, 12.62920683, 3.8407, 10.549225, 2.046003874, 3.875881, 0.0, 0.497064956, 0.0079, 1.428156269, 0.574940541, 0.453, 4.80031359, 0.0, 1.72268087, 1.493633864, 1.152924, 12.845, 12.657, 0.0, 6.497, 0.22774, 0.0, 0.0, 0.005, 0.006159, 6.894765181, 2.40369047, 50.83600814, 0.305662189, 16.81339144, 0.133, 1.6794, 0.76415852, 0.0, 19.825697, 0.0, 1.1274, 0.00075, 57.11571962, 277.7291061, 0.0, 0.0, 0.326664064], 'Other': [0.0, 2.29693941, 3.539346, 4.763252129, 0.0811, 0.008019927, 0.109149431, 5.427544126, 52.88998503, 0.496261903, 0.679177831, 9.588635536, 6.737367486, 90.72346175, 2.088838157, 0.682716361, 0.05136, 4.7285, 6.119796142, 0.427967651, 0.0, 1.369850244, 0.23331662, 12.86168421, 8.521197318, 51.437, 0.298303335, 0.100724044, 2.371182482, 6.009414916, 30.45869682, 14.5368, 0.021740437, 0.0, 1.242427268, 0.115, 25.31219835, 33.6554308, 0.0024284, 0.0, 0.962146042, 0.47, 0.226101964, 0.05405, 1.004339878, 6.480283932, 0.0, 4.875860296, 8.320907599, 0.178266653, 0.0, 0.163131005, 0.022, 1.39699069, 0.0041, 2.647315578, 0.222533905, 1.667658529, 0.674414968, 11.540128, 6.331, 3.439, 0.114486339, 0.4617102, 0.4645, 0.0, 0.903, 1.419478261, 0.28827567, 0.530431005, 10.1747942, 7.378921565, 0.11339364, 11.85871366, 1.974071402, 2.01435, 12.31650175, 0.0, 9.983786807, 0.0, 0.218506543, 0.005983607, 35.58660245, 83.67703684, 0.0, 0.0, 0.060833333]}\n"
     ]
    }
   ],
   "source": [
    "# add code here\n",
    "\n",
    "# A function to read csv data is defined\n",
    "def multi_column_data(file):\n",
    "    \n",
    "    # Defining a dictionary variable\n",
    "    dictionary = {}                                  \n",
    "    \n",
    "    # Defining a list to read the first row in the csv file\n",
    "    data=[]                                          \n",
    "    \n",
    "    # using the first row, the values are stored in the list\n",
    "    with open(file, 'r') as f:\n",
    "        for line in f:\n",
    "            data.append((line.rstrip()).split(','))\n",
    "            break                                    \n",
    "\n",
    "# Using a loop, the column number and file is send to the function defined above\n",
    "    for n in range(len(data[0])):\n",
    "        key, values = specific_column(file,n)\n",
    "        # The values returned are stored as dictionary values\n",
    "        dictionary[key] = values                      \n",
    "    \n",
    "    # The dictionary is returned\n",
    "    return dictionary                                \n",
    "\n",
    "# Printing the output of the function\n",
    "print(multi_column_data(\"task1.csv\"))"
   ]
  },
  {
   "cell_type": "markdown",
   "metadata": {
    "deletable": false
   },
   "source": [
    "<p style=\"color:red; font-weight:bold; font-size:xx-small\">MARK: __%</p>\n",
    "<p style=\"color:red; font-weight:bold; font-size:xx-small\">FEEDBACK: </p>"
   ]
  },
  {
   "cell_type": "markdown",
   "metadata": {
    "deletable": false
   },
   "source": [
    "### Requirement FR7 - Develop a function to generate a set of statistics for a given data file"
   ]
  },
  {
   "cell_type": "code",
   "execution_count": 7,
   "metadata": {},
   "outputs": [
    {
     "name": "stdout",
     "output_type": "stream",
     "text": [
      "{'Stats': ['Count', 'Mean', 'Stdev', 'Min', '25th', '50th', '75th', 'Max'], 'Hydropower': [88, 48.82, 143.61, 0.0, 0.74, 7.55, 35.8, 1202.43], 'Solar': [88, 6.62, 23.05, 0.0, 0.08, 0.59, 2.63, 177.5], 'Wind': [88, 14.38, 50.17, 0.0, 0.08, 0.87, 6.72, 366.0], 'Other': [87, 7.01, 15.91, 0.0, 0.1, 0.9, 6.33, 90.72]}\n"
     ]
    }
   ],
   "source": [
    "# add code here\n",
    "\n",
    "# Defining a function to generate a set of statistics for a given file\n",
    "def statistics(file):\n",
    "    \n",
    "    # Defining a dictionary to store the values\n",
    "    stat_dict={}                                             \n",
    "    \n",
    "    # Defining the key and variables header names\n",
    "    key=\"Stats\"\n",
    "    values=[\"Count\",\"Mean\",\"Stdev\",\"Min\",\"25th\",\"50th\",\"75th\",\"Max\"]\n",
    "    stat_dict[key]=values\n",
    "    \n",
    "    # Using the above function the file is stored as dictionary\n",
    "    dictionary= multi_column_data(file)                                   \n",
    "   \n",
    "    # Looping through the dictionary, statistics values are stored.\n",
    "    for k,v in dictionary.items():\n",
    "        avg=average(v)\n",
    "        std= sd(v)\n",
    "        mi,ma,co = min_max(v)\n",
    "        p25, p50, p75 = percentiles(v)\n",
    "        stat_dict.update({k:[co,avg,std,mi,p25,p50,p75,ma]})\n",
    "    \n",
    "    # The dictionary with statistics values are returned\n",
    "    return stat_dict   \n",
    "\n",
    "# Printing the output of the function\n",
    "print(statistics(\"task1.csv\"))"
   ]
  },
  {
   "cell_type": "markdown",
   "metadata": {
    "deletable": false
   },
   "source": [
    "<p style=\"color:red; font-weight:bold; font-size:xx-small\">MARK: __%</p>\n",
    "<p style=\"color:red; font-weight:bold; font-size:xx-small\">FEEDBACK: </p>"
   ]
  },
  {
   "cell_type": "markdown",
   "metadata": {
    "deletable": false
   },
   "source": [
    "### Requirement FR8 - Develop a function to print a custom table"
   ]
  },
  {
   "cell_type": "code",
   "execution_count": 11,
   "metadata": {
    "scrolled": true
   },
   "outputs": [
    {
     "name": "stdout",
     "output_type": "stream",
     "text": [
      "************************************************************\n",
      "*  Stats   *  Hydropower  *  Solar   *   Wind   *  Other   *\n",
      "************************************************************\n",
      "*  Count   *      88      *    88    *    88    *    87    *\n",
      "*   Mean   *    48.82     *   6.62   *  14.38   *   7.01   *\n",
      "*  Stdev   *    143.61    *  23.05   *  50.17   *  15.91   *\n",
      "*   Min    *     0.0      *   0.0    *   0.0    *   0.0    *\n",
      "*   25th   *     0.74     *   0.08   *   0.08   *   0.1    *\n",
      "*   50th   *     7.55     *   0.59   *   0.87   *   0.9    *\n",
      "*   75th   *     35.8     *   2.63   *   6.72   *   6.33   *\n",
      "*   Max    *   1202.43    *  177.5   *  366.0   *  90.72   *\n",
      "************************************************************\n",
      "\n"
     ]
    }
   ],
   "source": [
    "# add code here\n",
    "# The function is defined to create a custom table\n",
    "def custom_table(vis_dict):\n",
    "    \n",
    "    # Creating a padding for the top of table\n",
    "    print(\"*\"*60)                           \n",
    "    \n",
    "    # Defining a counter to zero for creating padding after heading \n",
    "    counter = 0\n",
    "    \n",
    "    # Zipping together the items in the key-value pair and printing the zipped item in a format \n",
    "    for row in zip(*([key] + (value) for key, value in vis_dict.items())):\n",
    "        print(\"*{:^10}*{:^14}*{:^10}*{:^10}*{:^10}*\".format(*row))\n",
    "        \n",
    "        # Checking the counter for creating a paading after heading\n",
    "        if(counter == 0):\n",
    "            print(\"*\"*60)\n",
    "            \n",
    "            # counter is increased by one for the code to not enter this loop\n",
    "            counter+=1\n",
    "        \n",
    "        # The loop is continued\n",
    "        else:\n",
    "            continue\n",
    "            \n",
    "    # creating a padding on the bottom of the table\n",
    "    print(\"*\"*60)\n",
    "    \n",
    "    # Returning  a string with no value to avoid printing None in the output\n",
    "    return (\"\") \n",
    "\n",
    "\n",
    "# Printing the output of the function\n",
    "\n",
    "dictionary = statistics(\"task1.csv\")\n",
    "\n",
    "print(custom_table(dictionary))"
   ]
  },
  {
   "cell_type": "markdown",
   "metadata": {
    "deletable": false
   },
   "source": [
    "<p style=\"color:red; font-weight:bold; font-size:xx-small\">MARK: __%</p>\n",
    "<p style=\"color:red; font-weight:bold; font-size:xx-small\">FEEDBACK: </p>"
   ]
  },
  {
   "cell_type": "markdown",
   "metadata": {
    "deletable": false
   },
   "source": [
    "# Coding Standards\n",
    "<p style=\"color:red; font-weight:bold; font-size:xx-small\">MARK: __%</p>\n",
    "<p style=\"color:red; font-weight:bold; font-size:xx-small\">FEEDBACK: </p>"
   ]
  },
  {
   "cell_type": "markdown",
   "metadata": {
    "deletable": false
   },
   "source": [
    "# Process Development Report for Task 1\n"
   ]
  },
  {
   "cell_type": "markdown",
   "metadata": {},
   "source": [
    "Reflecting on each of the sections in task 1, the requirements in each sections could be solved using different ways. Some tasks required several trial and error techniques. <br /><br />\n",
    "Starting with the first section, which was finding average. Here, I used simple built-in functions called `sum()` and `len()`, and the value was returned. Alternatively, it could be looped through the list, and after adding each number to a variable and incrementing the counter, the loop can be terminated. The divided value of sum variable and counter wiil give the average value. <br />\n",
    "In section 2, I have used the equation of standard deviation taking square root of variance. The denominator here was the number of elements. Another formula, where the denominator is one less than the number of elements, was not taken as it is used for large set of values. In our task the set of values are limited.<br />\n",
    "While defining the section 3 of this task, I used built-in functions called `min()`, `max()` and `len()`. An approach alternate to the one I used was first assigning the minimum and maximum values to the first element in the list. Then iterating through the loop, each element is checked with this pre-assigned variable using greater than or less than condition. If any number is greater than the one assigned, then this number takes the variable value. Each time using an increment counter, the number of values is counted.<br />\n",
    "Section 4 dealt with finding the percentiles value. The 25th, 50th and 75th perntile values were found out using the interpolation method. This function required a trail and error to get the values.<br />\n",
    "The question in section 5 was completed after several trials of running codes. The section required output of values where the column name is a string and the values in the column as numbers. The intial attempt was successful for all columns except the last one. The column others had a empty entry and this showed an error in the code. It took a while to figure out the error and a while loop was used to check the condition of null before reading in the values.  <br />\n",
    "The section 6 also faced a bit of trying over several codes. This question required a loop to call the function developed in section 5. So, for that purpose, a trial was done to loop through the file passed as parameter. However, the only way the code managed to run was after reading the first row and then lopping through the elements. The elements of the first row was the corresponding column values. <br />\n",
    "Sections 7 and 8 was simple. However, section 8 required some referencing. The concept of custom table preparation depended on understanding the `print` and `zip` function. The section 7 was looping through all the functions defined in the previous section and writing into a dictionary."
   ]
  },
  {
   "cell_type": "markdown",
   "metadata": {
    "deletable": false
   },
   "source": [
    "<p style=\"color:red; font-weight:bold; font-size:xx-small\">MARK: __%</p>\n",
    "<p style=\"color:red; font-weight:bold; font-size:xx-small\">FEEDBACK: </p>"
   ]
  }
 ],
 "metadata": {
  "kernelspec": {
   "display_name": "Python 3",
   "language": "python",
   "name": "python3"
  },
  "language_info": {
   "codemirror_mode": {
    "name": "ipython",
    "version": 3
   },
   "file_extension": ".py",
   "mimetype": "text/x-python",
   "name": "python",
   "nbconvert_exporter": "python",
   "pygments_lexer": "ipython3",
   "version": "3.8.8"
  }
 },
 "nbformat": 4,
 "nbformat_minor": 4
}
